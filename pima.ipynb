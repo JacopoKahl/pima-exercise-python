{
  "nbformat": 4,
  "nbformat_minor": 0,
  "metadata": {
    "colab": {
      "name": "pima.ipynb",
      "provenance": [],
      "collapsed_sections": [],
      "authorship_tag": "ABX9TyMKe5HERbdXREApEtNNhiAb",
      "include_colab_link": true
    },
    "kernelspec": {
      "name": "python3",
      "display_name": "Python 3"
    },
    "accelerator": "TPU"
  },
  "cells": [
    {
      "cell_type": "markdown",
      "metadata": {
        "id": "view-in-github",
        "colab_type": "text"
      },
      "source": [
        "<a href=\"https://colab.research.google.com/github/JacopoKahl/pima-exercise-python/blob/master/pima.ipynb\" target=\"_parent\"><img src=\"https://colab.research.google.com/assets/colab-badge.svg\" alt=\"Open In Colab\"/></a>"
      ]
    },
    {
      "cell_type": "markdown",
      "metadata": {
        "id": "MHyU8WKSi_3k",
        "colab_type": "text"
      },
      "source": [
        "**PIMA indians dataset**\n",
        "\n",
        "Dataset for diabates diagnosis"
      ]
    },
    {
      "cell_type": "markdown",
      "metadata": {
        "id": "5oyJY0jzql5e",
        "colab_type": "text"
      },
      "source": [
        "Import libraries and functions"
      ]
    },
    {
      "cell_type": "code",
      "metadata": {
        "id": "Azhw3zrpi5y4",
        "colab_type": "code",
        "colab": {}
      },
      "source": [
        "import pandas as pd #import data pre-processing\n",
        "\n",
        "#Import neural network model and layer type\n",
        "from keras.models import Sequential\n",
        "from keras.layers import Dense\n",
        "\n"
      ],
      "execution_count": 0,
      "outputs": []
    },
    {
      "cell_type": "markdown",
      "metadata": {
        "id": "kd9Ya-iLq9I_",
        "colab_type": "text"
      },
      "source": [
        "Import dataset"
      ]
    },
    {
      "cell_type": "code",
      "metadata": {
        "id": "1OSWXcFLq-qa",
        "colab_type": "code",
        "outputId": "3cc3db54-db9f-4ffd-91a2-6b016583b6eb",
        "colab": {
          "base_uri": "https://localhost:8080/",
          "height": 34
        }
      },
      "source": [
        "database = pd.read_csv('Pima_diabetes.csv') #Load database file\n",
        "database.shape\n",
        "#database.head()"
      ],
      "execution_count": 13,
      "outputs": [
        {
          "output_type": "execute_result",
          "data": {
            "text/plain": [
              "(768, 9)"
            ]
          },
          "metadata": {
            "tags": []
          },
          "execution_count": 13
        }
      ]
    },
    {
      "cell_type": "markdown",
      "metadata": {
        "id": "fsiExVWIs3Fg",
        "colab_type": "text"
      },
      "source": [
        "Classical machine learning problems generally need a pre-procesing (data cleaning) step to purify the data from spurious elements.\n",
        "\n",
        "Pandas functions like describe() allow to inspect general statistics of the data\n",
        "\n",
        "Alway s useful is checking null values NaN values (missing values?)"
      ]
    },
    {
      "cell_type": "code",
      "metadata": {
        "id": "qVG3BqKUrjGp",
        "colab_type": "code",
        "outputId": "9a36d74b-d30d-4955-cef5-098efe8e9ab9",
        "colab": {
          "base_uri": "https://localhost:8080/",
          "height": 317
        }
      },
      "source": [
        "database.describe()"
      ],
      "execution_count": 14,
      "outputs": [
        {
          "output_type": "execute_result",
          "data": {
            "text/html": [
              "<div>\n",
              "<style scoped>\n",
              "    .dataframe tbody tr th:only-of-type {\n",
              "        vertical-align: middle;\n",
              "    }\n",
              "\n",
              "    .dataframe tbody tr th {\n",
              "        vertical-align: top;\n",
              "    }\n",
              "\n",
              "    .dataframe thead th {\n",
              "        text-align: right;\n",
              "    }\n",
              "</style>\n",
              "<table border=\"1\" class=\"dataframe\">\n",
              "  <thead>\n",
              "    <tr style=\"text-align: right;\">\n",
              "      <th></th>\n",
              "      <th>Pregnancies</th>\n",
              "      <th>Glucose</th>\n",
              "      <th>BloodPressure</th>\n",
              "      <th>SkinThickness</th>\n",
              "      <th>Insulin</th>\n",
              "      <th>BMI</th>\n",
              "      <th>DiabetesPedigreeFunction</th>\n",
              "      <th>Age</th>\n",
              "      <th>Outcome</th>\n",
              "    </tr>\n",
              "  </thead>\n",
              "  <tbody>\n",
              "    <tr>\n",
              "      <th>count</th>\n",
              "      <td>768.000000</td>\n",
              "      <td>768.000000</td>\n",
              "      <td>768.000000</td>\n",
              "      <td>768.000000</td>\n",
              "      <td>768.000000</td>\n",
              "      <td>768.000000</td>\n",
              "      <td>768.000000</td>\n",
              "      <td>768.000000</td>\n",
              "      <td>768.000000</td>\n",
              "    </tr>\n",
              "    <tr>\n",
              "      <th>mean</th>\n",
              "      <td>3.845052</td>\n",
              "      <td>120.894531</td>\n",
              "      <td>69.105469</td>\n",
              "      <td>20.536458</td>\n",
              "      <td>79.799479</td>\n",
              "      <td>31.992578</td>\n",
              "      <td>0.471876</td>\n",
              "      <td>33.240885</td>\n",
              "      <td>0.348958</td>\n",
              "    </tr>\n",
              "    <tr>\n",
              "      <th>std</th>\n",
              "      <td>3.369578</td>\n",
              "      <td>31.972618</td>\n",
              "      <td>19.355807</td>\n",
              "      <td>15.952218</td>\n",
              "      <td>115.244002</td>\n",
              "      <td>7.884160</td>\n",
              "      <td>0.331329</td>\n",
              "      <td>11.760232</td>\n",
              "      <td>0.476951</td>\n",
              "    </tr>\n",
              "    <tr>\n",
              "      <th>min</th>\n",
              "      <td>0.000000</td>\n",
              "      <td>0.000000</td>\n",
              "      <td>0.000000</td>\n",
              "      <td>0.000000</td>\n",
              "      <td>0.000000</td>\n",
              "      <td>0.000000</td>\n",
              "      <td>0.078000</td>\n",
              "      <td>21.000000</td>\n",
              "      <td>0.000000</td>\n",
              "    </tr>\n",
              "    <tr>\n",
              "      <th>25%</th>\n",
              "      <td>1.000000</td>\n",
              "      <td>99.000000</td>\n",
              "      <td>62.000000</td>\n",
              "      <td>0.000000</td>\n",
              "      <td>0.000000</td>\n",
              "      <td>27.300000</td>\n",
              "      <td>0.243750</td>\n",
              "      <td>24.000000</td>\n",
              "      <td>0.000000</td>\n",
              "    </tr>\n",
              "    <tr>\n",
              "      <th>50%</th>\n",
              "      <td>3.000000</td>\n",
              "      <td>117.000000</td>\n",
              "      <td>72.000000</td>\n",
              "      <td>23.000000</td>\n",
              "      <td>30.500000</td>\n",
              "      <td>32.000000</td>\n",
              "      <td>0.372500</td>\n",
              "      <td>29.000000</td>\n",
              "      <td>0.000000</td>\n",
              "    </tr>\n",
              "    <tr>\n",
              "      <th>75%</th>\n",
              "      <td>6.000000</td>\n",
              "      <td>140.250000</td>\n",
              "      <td>80.000000</td>\n",
              "      <td>32.000000</td>\n",
              "      <td>127.250000</td>\n",
              "      <td>36.600000</td>\n",
              "      <td>0.626250</td>\n",
              "      <td>41.000000</td>\n",
              "      <td>1.000000</td>\n",
              "    </tr>\n",
              "    <tr>\n",
              "      <th>max</th>\n",
              "      <td>17.000000</td>\n",
              "      <td>199.000000</td>\n",
              "      <td>122.000000</td>\n",
              "      <td>99.000000</td>\n",
              "      <td>846.000000</td>\n",
              "      <td>67.100000</td>\n",
              "      <td>2.420000</td>\n",
              "      <td>81.000000</td>\n",
              "      <td>1.000000</td>\n",
              "    </tr>\n",
              "  </tbody>\n",
              "</table>\n",
              "</div>"
            ],
            "text/plain": [
              "       Pregnancies     Glucose  ...         Age     Outcome\n",
              "count   768.000000  768.000000  ...  768.000000  768.000000\n",
              "mean      3.845052  120.894531  ...   33.240885    0.348958\n",
              "std       3.369578   31.972618  ...   11.760232    0.476951\n",
              "min       0.000000    0.000000  ...   21.000000    0.000000\n",
              "25%       1.000000   99.000000  ...   24.000000    0.000000\n",
              "50%       3.000000  117.000000  ...   29.000000    0.000000\n",
              "75%       6.000000  140.250000  ...   41.000000    1.000000\n",
              "max      17.000000  199.000000  ...   81.000000    1.000000\n",
              "\n",
              "[8 rows x 9 columns]"
            ]
          },
          "metadata": {
            "tags": []
          },
          "execution_count": 14
        }
      ]
    },
    {
      "cell_type": "markdown",
      "metadata": {
        "id": "JXBj4QQAt9g8",
        "colab_type": "text"
      },
      "source": [
        "Let's partition the dayabase into train features and output labels"
      ]
    },
    {
      "cell_type": "code",
      "metadata": {
        "id": "5-flcn6kuCjN",
        "colab_type": "code",
        "colab": {}
      },
      "source": [
        "X = database.iloc[:, 0:8] #return all rows for first eigth columns (from 0 to 7). Please note pandas iloc for \"slicing\" a datafram\n",
        "Y = database.iloc[:, 8] #Turn all rows for the column with index 8 (the 9th columnn)"
      ],
      "execution_count": 0,
      "outputs": []
    },
    {
      "cell_type": "code",
      "metadata": {
        "id": "LdSPqKwIvUXu",
        "colab_type": "code",
        "outputId": "907407ab-0865-42b7-9190-cd140a149fc3",
        "colab": {
          "base_uri": "https://localhost:8080/",
          "height": 34
        }
      },
      "source": [
        "X.head()\n",
        "X.shape"
      ],
      "execution_count": 16,
      "outputs": [
        {
          "output_type": "execute_result",
          "data": {
            "text/plain": [
              "(768, 8)"
            ]
          },
          "metadata": {
            "tags": []
          },
          "execution_count": 16
        }
      ]
    },
    {
      "cell_type": "markdown",
      "metadata": {
        "id": "lxUYSG16xcs1",
        "colab_type": "text"
      },
      "source": [
        "**Define the network architecture**"
      ]
    },
    {
      "cell_type": "code",
      "metadata": {
        "id": "7DHfrpCYvYwd",
        "colab_type": "code",
        "colab": {}
      },
      "source": [
        "classifier = Sequential()\n",
        "classifier.add(Dense(units=4, activation='relu', input_dim= X.shape[1]))\n",
        "classifier.add(Dense(units=1, activation='sigmoid'))\n"
      ],
      "execution_count": 0,
      "outputs": []
    },
    {
      "cell_type": "markdown",
      "metadata": {
        "id": "tIhDjr-lxm_W",
        "colab_type": "text"
      },
      "source": [
        "Compile spicifying optimizer and loss function"
      ]
    },
    {
      "cell_type": "code",
      "metadata": {
        "id": "evBRMq11x6EW",
        "colab_type": "code",
        "colab": {}
      },
      "source": [
        "classifier.compile(optimizer='adam', loss='binary_crossentropy', metrics=['accuracy'])"
      ],
      "execution_count": 0,
      "outputs": []
    },
    {
      "cell_type": "markdown",
      "metadata": {
        "id": "a5mIQXRXyfVe",
        "colab_type": "text"
      },
      "source": [
        "Learning phase "
      ]
    },
    {
      "cell_type": "code",
      "metadata": {
        "id": "zwVyb84bykNX",
        "colab_type": "code",
        "outputId": "d7095073-847a-4343-80ac-ffd8fe122435",
        "colab": {
          "base_uri": "https://localhost:8080/",
          "height": 1000
        }
      },
      "source": [
        "#classifier.fit(X, Y, batch_size=16, epochs=50)\n",
        "classifier.fit(X, Y, batch_size=16, epochs=50, validation_split=0.2)"
      ],
      "execution_count": 19,
      "outputs": [
        {
          "output_type": "stream",
          "text": [
            "Train on 614 samples, validate on 154 samples\n",
            "Epoch 1/50\n",
            "614/614 [==============================] - 0s 521us/step - loss: 5.1529 - acc: 0.6059 - val_loss: 6.0023 - val_acc: 0.5584\n",
            "Epoch 2/50\n",
            "614/614 [==============================] - 0s 86us/step - loss: 4.2158 - acc: 0.5684 - val_loss: 4.3390 - val_acc: 0.5130\n",
            "Epoch 3/50\n",
            "614/614 [==============================] - 0s 104us/step - loss: 2.8990 - acc: 0.4951 - val_loss: 2.9764 - val_acc: 0.4675\n",
            "Epoch 4/50\n",
            "614/614 [==============================] - 0s 82us/step - loss: 2.1599 - acc: 0.4967 - val_loss: 2.2700 - val_acc: 0.5000\n",
            "Epoch 5/50\n",
            "614/614 [==============================] - 0s 94us/step - loss: 1.7668 - acc: 0.6401 - val_loss: 1.7417 - val_acc: 0.5844\n",
            "Epoch 6/50\n",
            "614/614 [==============================] - 0s 93us/step - loss: 1.4392 - acc: 0.6564 - val_loss: 1.2608 - val_acc: 0.6039\n",
            "Epoch 7/50\n",
            "614/614 [==============================] - 0s 90us/step - loss: 1.2590 - acc: 0.6515 - val_loss: 1.1362 - val_acc: 0.6364\n",
            "Epoch 8/50\n",
            "614/614 [==============================] - 0s 89us/step - loss: 1.1549 - acc: 0.6564 - val_loss: 1.1317 - val_acc: 0.6364\n",
            "Epoch 9/50\n",
            "614/614 [==============================] - 0s 93us/step - loss: 1.0252 - acc: 0.6547 - val_loss: 1.0421 - val_acc: 0.6364\n",
            "Epoch 10/50\n",
            "614/614 [==============================] - 0s 89us/step - loss: 0.9391 - acc: 0.6564 - val_loss: 0.9569 - val_acc: 0.6429\n",
            "Epoch 11/50\n",
            "614/614 [==============================] - 0s 93us/step - loss: 0.8915 - acc: 0.6580 - val_loss: 0.9207 - val_acc: 0.6364\n",
            "Epoch 12/50\n",
            "614/614 [==============================] - 0s 92us/step - loss: 0.8562 - acc: 0.6596 - val_loss: 0.8649 - val_acc: 0.6364\n",
            "Epoch 13/50\n",
            "614/614 [==============================] - 0s 115us/step - loss: 0.8427 - acc: 0.6173 - val_loss: 0.9396 - val_acc: 0.4416\n",
            "Epoch 14/50\n",
            "614/614 [==============================] - 0s 110us/step - loss: 0.8162 - acc: 0.6173 - val_loss: 0.8590 - val_acc: 0.6364\n",
            "Epoch 15/50\n",
            "614/614 [==============================] - 0s 100us/step - loss: 0.7976 - acc: 0.6596 - val_loss: 0.8458 - val_acc: 0.6299\n",
            "Epoch 16/50\n",
            "614/614 [==============================] - 0s 84us/step - loss: 0.7831 - acc: 0.6596 - val_loss: 0.8989 - val_acc: 0.6364\n",
            "Epoch 17/50\n",
            "614/614 [==============================] - 0s 103us/step - loss: 0.7712 - acc: 0.6515 - val_loss: 0.8397 - val_acc: 0.6299\n",
            "Epoch 18/50\n",
            "614/614 [==============================] - 0s 89us/step - loss: 0.7738 - acc: 0.6189 - val_loss: 0.8448 - val_acc: 0.6299\n",
            "Epoch 19/50\n",
            "614/614 [==============================] - 0s 90us/step - loss: 0.7523 - acc: 0.6531 - val_loss: 0.8348 - val_acc: 0.6299\n",
            "Epoch 20/50\n",
            "614/614 [==============================] - 0s 96us/step - loss: 0.7535 - acc: 0.6547 - val_loss: 0.8558 - val_acc: 0.6364\n",
            "Epoch 21/50\n",
            "614/614 [==============================] - 0s 92us/step - loss: 0.7457 - acc: 0.6629 - val_loss: 0.8401 - val_acc: 0.6299\n",
            "Epoch 22/50\n",
            "614/614 [==============================] - 0s 92us/step - loss: 0.7521 - acc: 0.6678 - val_loss: 0.8531 - val_acc: 0.6364\n",
            "Epoch 23/50\n",
            "614/614 [==============================] - 0s 89us/step - loss: 0.7418 - acc: 0.6531 - val_loss: 0.8396 - val_acc: 0.6299\n",
            "Epoch 24/50\n",
            "614/614 [==============================] - 0s 97us/step - loss: 0.7403 - acc: 0.6531 - val_loss: 0.8598 - val_acc: 0.6364\n",
            "Epoch 25/50\n",
            "614/614 [==============================] - 0s 89us/step - loss: 0.7329 - acc: 0.6564 - val_loss: 0.8666 - val_acc: 0.6364\n",
            "Epoch 26/50\n",
            "614/614 [==============================] - 0s 83us/step - loss: 0.7303 - acc: 0.6547 - val_loss: 0.8401 - val_acc: 0.6364\n",
            "Epoch 27/50\n",
            "614/614 [==============================] - 0s 98us/step - loss: 0.7329 - acc: 0.6580 - val_loss: 0.8375 - val_acc: 0.6299\n",
            "Epoch 28/50\n",
            "614/614 [==============================] - 0s 84us/step - loss: 0.7236 - acc: 0.6531 - val_loss: 0.8177 - val_acc: 0.6299\n",
            "Epoch 29/50\n",
            "614/614 [==============================] - 0s 85us/step - loss: 0.7455 - acc: 0.6596 - val_loss: 0.8193 - val_acc: 0.6364\n",
            "Epoch 30/50\n",
            "614/614 [==============================] - 0s 96us/step - loss: 0.7244 - acc: 0.6612 - val_loss: 0.8258 - val_acc: 0.6299\n",
            "Epoch 31/50\n",
            "614/614 [==============================] - 0s 89us/step - loss: 0.7164 - acc: 0.6547 - val_loss: 0.8168 - val_acc: 0.6299\n",
            "Epoch 32/50\n",
            "614/614 [==============================] - 0s 88us/step - loss: 0.7188 - acc: 0.6726 - val_loss: 0.8252 - val_acc: 0.6299\n",
            "Epoch 33/50\n",
            "614/614 [==============================] - 0s 88us/step - loss: 0.7062 - acc: 0.6580 - val_loss: 0.8246 - val_acc: 0.6299\n",
            "Epoch 34/50\n",
            "614/614 [==============================] - 0s 88us/step - loss: 0.7129 - acc: 0.6596 - val_loss: 0.8285 - val_acc: 0.6299\n",
            "Epoch 35/50\n",
            "614/614 [==============================] - 0s 93us/step - loss: 0.7233 - acc: 0.6954 - val_loss: 0.8310 - val_acc: 0.6364\n",
            "Epoch 36/50\n",
            "614/614 [==============================] - 0s 90us/step - loss: 0.7099 - acc: 0.6596 - val_loss: 0.8211 - val_acc: 0.6299\n",
            "Epoch 37/50\n",
            "614/614 [==============================] - 0s 114us/step - loss: 0.7112 - acc: 0.6580 - val_loss: 0.8166 - val_acc: 0.6299\n",
            "Epoch 38/50\n",
            "614/614 [==============================] - 0s 94us/step - loss: 0.7034 - acc: 0.6596 - val_loss: 0.8255 - val_acc: 0.6299\n",
            "Epoch 39/50\n",
            "614/614 [==============================] - 0s 84us/step - loss: 0.7241 - acc: 0.6580 - val_loss: 0.8448 - val_acc: 0.6364\n",
            "Epoch 40/50\n",
            "614/614 [==============================] - 0s 95us/step - loss: 0.7036 - acc: 0.6645 - val_loss: 0.8245 - val_acc: 0.6299\n",
            "Epoch 41/50\n",
            "614/614 [==============================] - 0s 90us/step - loss: 0.6989 - acc: 0.6629 - val_loss: 0.8226 - val_acc: 0.6299\n",
            "Epoch 42/50\n",
            "614/614 [==============================] - 0s 92us/step - loss: 0.6867 - acc: 0.6596 - val_loss: 0.8209 - val_acc: 0.6299\n",
            "Epoch 43/50\n",
            "614/614 [==============================] - 0s 93us/step - loss: 0.6866 - acc: 0.6612 - val_loss: 0.8132 - val_acc: 0.6299\n",
            "Epoch 44/50\n",
            "614/614 [==============================] - 0s 94us/step - loss: 0.6931 - acc: 0.6629 - val_loss: 0.8004 - val_acc: 0.6364\n",
            "Epoch 45/50\n",
            "614/614 [==============================] - 0s 82us/step - loss: 0.6923 - acc: 0.6629 - val_loss: 0.8135 - val_acc: 0.6299\n",
            "Epoch 46/50\n",
            "614/614 [==============================] - 0s 105us/step - loss: 0.6771 - acc: 0.6596 - val_loss: 0.8264 - val_acc: 0.6364\n",
            "Epoch 47/50\n",
            "614/614 [==============================] - 0s 86us/step - loss: 0.6787 - acc: 0.6612 - val_loss: 0.8563 - val_acc: 0.6429\n",
            "Epoch 48/50\n",
            "614/614 [==============================] - 0s 95us/step - loss: 0.6776 - acc: 0.6678 - val_loss: 0.8153 - val_acc: 0.6299\n",
            "Epoch 49/50\n",
            "614/614 [==============================] - 0s 92us/step - loss: 0.6791 - acc: 0.6629 - val_loss: 0.8220 - val_acc: 0.6299\n",
            "Epoch 50/50\n",
            "614/614 [==============================] - 0s 89us/step - loss: 0.6718 - acc: 0.6629 - val_loss: 0.8201 - val_acc: 0.6299\n"
          ],
          "name": "stdout"
        },
        {
          "output_type": "execute_result",
          "data": {
            "text/plain": [
              "<keras.callbacks.History at 0x7efedca49518>"
            ]
          },
          "metadata": {
            "tags": []
          },
          "execution_count": 19
        }
      ]
    }
  ]
}